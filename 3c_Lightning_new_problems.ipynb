{
 "cells": [
  {
   "cell_type": "code",
   "execution_count": 5,
   "metadata": {},
   "outputs": [],
   "source": [
    "import torch\n",
    "from torch import nn\n",
    "import pytorch_lightning as pl\n",
    "from torch.utils.data import DataLoader, Dataset\n",
    "import pandas as pd\n",
    "from torchvision import transforms\n",
    "import os\n"
   ]
  },
  {
   "cell_type": "code",
   "execution_count": 9,
   "metadata": {},
   "outputs": [
    {
     "name": "stdout",
     "output_type": "stream",
     "text": [
      "['images', 'annotations']\n"
     ]
    }
   ],
   "source": [
    "m_path = '/home/tungnguyendinh/.fastai/data/oxford-iiit-pet'\n",
    "print(os.listdir(m_path))"
   ]
  },
  {
   "cell_type": "code",
   "execution_count": 10,
   "metadata": {},
   "outputs": [
    {
     "data": {
      "text/html": [
       "<div>\n",
       "<style scoped>\n",
       "    .dataframe tbody tr th:only-of-type {\n",
       "        vertical-align: middle;\n",
       "    }\n",
       "\n",
       "    .dataframe tbody tr th {\n",
       "        vertical-align: top;\n",
       "    }\n",
       "\n",
       "    .dataframe thead th {\n",
       "        text-align: right;\n",
       "    }\n",
       "</style>\n",
       "<table border=\"1\" class=\"dataframe\">\n",
       "  <thead>\n",
       "    <tr style=\"text-align: right;\">\n",
       "      <th></th>\n",
       "      <th>file</th>\n",
       "      <th>class</th>\n",
       "      <th>type</th>\n",
       "      <th>breed</th>\n",
       "    </tr>\n",
       "  </thead>\n",
       "  <tbody>\n",
       "    <tr>\n",
       "      <th>0</th>\n",
       "      <td>Abyssinian_100</td>\n",
       "      <td>1</td>\n",
       "      <td>1</td>\n",
       "      <td>1</td>\n",
       "    </tr>\n",
       "    <tr>\n",
       "      <th>1</th>\n",
       "      <td>Abyssinian_101</td>\n",
       "      <td>1</td>\n",
       "      <td>1</td>\n",
       "      <td>1</td>\n",
       "    </tr>\n",
       "    <tr>\n",
       "      <th>2</th>\n",
       "      <td>Abyssinian_102</td>\n",
       "      <td>1</td>\n",
       "      <td>1</td>\n",
       "      <td>1</td>\n",
       "    </tr>\n",
       "    <tr>\n",
       "      <th>3</th>\n",
       "      <td>Abyssinian_103</td>\n",
       "      <td>1</td>\n",
       "      <td>1</td>\n",
       "      <td>1</td>\n",
       "    </tr>\n",
       "    <tr>\n",
       "      <th>4</th>\n",
       "      <td>Abyssinian_104</td>\n",
       "      <td>1</td>\n",
       "      <td>1</td>\n",
       "      <td>1</td>\n",
       "    </tr>\n",
       "  </tbody>\n",
       "</table>\n",
       "</div>"
      ],
      "text/plain": [
       "             file  class  type  breed\n",
       "0  Abyssinian_100      1     1      1\n",
       "1  Abyssinian_101      1     1      1\n",
       "2  Abyssinian_102      1     1      1\n",
       "3  Abyssinian_103      1     1      1\n",
       "4  Abyssinian_104      1     1      1"
      ]
     },
     "execution_count": 10,
     "metadata": {},
     "output_type": "execute_result"
    }
   ],
   "source": [
    "df = pd.read_csv(f\"{m_path}/annotations/trainval.txt\", sep = \" \", header=None)\n",
    "df.columns = [\"file\", \"class\", \"type\", \"breed\"]\n",
    "df.head()"
   ]
  },
  {
   "cell_type": "code",
   "execution_count": null,
   "metadata": {},
   "outputs": [],
   "source": [
    "class OxfordPetDataset(Dataset):\n",
    "    def __init__(self, img_dir, annotations_file, transform = None, target_transform = None)"
   ]
  },
  {
   "cell_type": "code",
   "execution_count": null,
   "metadata": {},
   "outputs": [],
   "source": [
    "class PascalVOCDataModule(pl.LightningDataModule):\n",
    "    def __init__(self, batch_size, data_dir):\n",
    "        super().__init__()\n",
    "        self.batch_size = batch_size\n",
    "        self.data_dir = data_dir\n",
    "        self.mean = [0.457342265910642, 0.4387686270106377, 0.4073427106250871]\n",
    "        self.std = [0.26753769276329037, 0.2638145880487105, 0.2776826934044154]  \n",
    "        self.train_transform = transforms.Compose([\n",
    "                transforms.ToPILImage(),\n",
    "                transforms.Resize((300, 300)),\n",
    "                transforms.RandomChoice([\n",
    "                                        transforms.ColorJitter(brightness=(0.9, 1.1)),\n",
    "                                        transforms.RandomGrayscale(p = 0.25)\n",
    "                                        ]),\n",
    "                transforms.RandomHorizontalFlip(p = 0.25),\n",
    "                transforms.RandomRotation(25),\n",
    "                transforms.ToTensor(), \n",
    "                transforms.Normalize(mean = self.mean, std = self.std),\n",
    "                ])\n",
    "        self.eval_transform = transforms.Compose([\n",
    "                    transforms.ToPILImage(),\n",
    "                    transforms.Resize((300, 300)),\n",
    "                    transforms.ToTensor(),\n",
    "                    transforms.Normalize(mean = self.mean, std = self.std)\n",
    "                   ])\n",
    "        \n",
    "    def setup(self):\n",
    "        stage = \"train\"\n",
    "        self.voc_train = PascalDataset(f\"{self.data_dir}/{stage}\", f\"{self.data_dir}/{stage}.csv\", transform=self.train_transform, is_train= True)\n",
    "        self.voc_val = PascalDataset(f\"{self.data_dir}/{stage}\", f\"{self.data_dir}/{stage}.csv\", transform=self.eval_transform, is_valid = True) \n",
    "        stage = \"test\"                       \n",
    "        self.voc_test = PascalDataset(f\"{self.data_dir}/{stage}\", f\"{self.data_dir}/{stage}.csv\", transform=self.eval_transform)\n",
    "            \n",
    "    def train_dataloader(self):\n",
    "        self.setup()\n",
    "        return DataLoader(self.voc_train, self.batch_size)\n",
    "    \n",
    "    def val_dataloader(self):\n",
    "        return DataLoader(self.voc_val, self.batch_size)\n",
    "    \n",
    "    def test_dataloader(self):\n",
    "        return DataLoader(self.voc_test, self.batch_size)"
   ]
  }
 ],
 "metadata": {
  "kernelspec": {
   "display_name": "datnt_venv",
   "language": "python",
   "name": "python3"
  },
  "language_info": {
   "codemirror_mode": {
    "name": "ipython",
    "version": 3
   },
   "file_extension": ".py",
   "mimetype": "text/x-python",
   "name": "python",
   "nbconvert_exporter": "python",
   "pygments_lexer": "ipython3",
   "version": "3.8.16"
  },
  "orig_nbformat": 4
 },
 "nbformat": 4,
 "nbformat_minor": 2
}
